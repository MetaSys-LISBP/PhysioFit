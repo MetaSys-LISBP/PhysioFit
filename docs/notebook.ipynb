{
 "cells": [
  {
   "cell_type": "markdown",
   "id": "160d1c5e",
   "metadata": {},
   "source": [
    "# Package documentation\n",
    "\n",
    "PhysioFit is available as a library that you can import directly in your Python scripts:"
   ]
  },
  {
   "cell_type": "code",
   "execution_count": null,
   "id": "110d0126",
   "metadata": {},
   "outputs": [],
   "source": [
    "import physiofit"
   ]
  },
  {
   "cell_type": "markdown",
   "id": "695f5c59",
   "metadata": {},
   "source": [
    "Here we will walk you through the different ways of accessing the package. For more information on the object methods available for the PhysioFitter or the Input/Output Handler, please refer to the librairy section of the documentation."
   ]
  },
  {
   "cell_type": "markdown",
   "id": "606646c6",
   "metadata": {},
   "source": [
    "#### Initializing the IOHandler\n",
    "\n",
    "The IOHandler is the preferred object to communicate with the PhysioFitter. It is designed to help you manage data imports and exports before and after having run your fitting jobs. \n",
    "\n",
    "The first step is to initialize the Handler:"
   ]
  },
  {
   "cell_type": "code",
   "execution_count": 1,
   "id": "12939732",
   "metadata": {},
   "outputs": [],
   "source": [
    "from physiofit.base.io import IoHandler\n",
    "\n",
    "io_handler = IoHandler(source=\"local\")"
   ]
  },
  {
   "cell_type": "markdown",
   "id": "2d4051e6",
   "metadata": {},
   "source": [
    "As you can see, the only parameter that the Handler accepts on initialization is the \"source\" which is by default set to local. The idea behind this is that the Handler can be used in multiple contexts and will evolve with time. The initial version of Physiofit 2.0 only contains the logic for local usage, but later we can imagine adding logic for usage in flux calculation pipelines and workflows, or usage on servers.\n",
    "\n",
    "\n",
    "#### Importing your data as tsv\n",
    "\n",
    "\n",
    "In Physiofit 2.0, there are two ways of initializing the fitter object that will run your flux calculation. The first is by using the \"local_in\" method that accepts a string or Path object that points to your tabulated data. It also accepts all the keyword arguments that will be passed on to the Fitter object, of which it also handles the initialization. Here we will access the example data that comes with the package:"
   ]
  },
  {
   "cell_type": "code",
   "execution_count": 2,
   "id": "ebb444e1",
   "metadata": {},
   "outputs": [
    {
     "name": "stderr",
     "output_type": "stream",
     "text": [
      "2022-03-10 10:54:45,392 - PhysioFit_Logger.base.fitter.PhysioFitter - INFO - Initializing Weight matrix...\n",
      "\n",
      "2022-03-10 10:54:45,397 - PhysioFit_Logger.base.fitter.PhysioFitter - INFO - Weight Matrix:\n",
      "[[0.2 0.5 0.5]\n",
      " [0.2 0.5 0.5]\n",
      " [0.2 0.5 0.5]\n",
      " [0.2 0.5 0.5]\n",
      " [0.2 0.5 0.5]\n",
      " [0.2 0.5 0.5]\n",
      " [0.2 0.5 0.5]\n",
      " [0.2 0.5 0.5]\n",
      " [0.2 0.5 0.5]\n",
      " [0.2 0.5 0.5]\n",
      " [0.2 0.5 0.5]\n",
      " [0.2 0.5 0.5]\n",
      " [0.2 0.5 0.5]\n",
      " [0.2 0.5 0.5]\n",
      " [0.2 0.5 0.5]\n",
      " [0.2 0.5 0.5]]\n",
      "\n",
      "2022-03-10 10:54:45,398 - PhysioFit_Logger.base.fitter.PhysioFitter - INFO - Initializing bounds...\n",
      "\n",
      "2022-03-10 10:54:45,399 - PhysioFit_Logger.base.fitter.PhysioFitter - INFO - Bounds: ((0.01, 50), (0.01, 50), (-50, 50), (1e-06, 50), (-50, 50), (1e-06, 50))\n",
      "\n",
      "2022-03-10 10:54:45,412 - PhysioFit_Logger.base.fitter.PhysioFitter - INFO - \n",
      "Configuration file saved in: C:\\Users\\legregam\\Documents\\Projets\\PhysioFit\\docs\\docs_res\\config_file.json\n"
     ]
    }
   ],
   "source": [
    "import pathlib\n",
    "\n",
    "data_path = pathlib.Path(r\"./test_data.tsv\")\n",
    "io_handler.local_in(data_path=data_path)"
   ]
  },
  {
   "cell_type": "markdown",
   "id": "f93d3fa5",
   "metadata": {},
   "source": [
    "On initialization, the handler will generate a **config_file.json** and export the run parameters to it."
   ]
  },
  {
   "cell_type": "code",
   "execution_count": 3,
   "id": "40db8f32",
   "metadata": {},
   "outputs": [
    {
     "name": "stdout",
     "output_type": "stream",
     "text": [
      "{\n",
      "    \"conc_biom_bounds\": [\n",
      "        0.01,\n",
      "        50\n",
      "    ],\n",
      "    \"conc_met_bounds\": [\n",
      "        1e-06,\n",
      "        50\n",
      "    ],\n",
      "    \"debug_mode\": false,\n",
      "    \"deg\": null,\n",
      "    \"flux_biom_bounds\": [\n",
      "        0.01,\n",
      "        50\n",
      "    ],\n",
      "    \"flux_met_bounds\": [\n",
      "        -50,\n",
      "        50\n",
      "    ],\n",
      "    \"iterations\": 100,\n",
      "    \"mc\": true,\n",
      "    \"path_to_data\": \"C:\\\\Users\\\\legregam\\\\Documents\\\\Projets\\\\PhysioFit\\\\docs\\\\test_data.tsv\",\n",
      "    \"t_lag\": false,\n",
      "    \"vini\": 0.04,\n",
      "    \"weight\": [\n",
      "        0.2,\n",
      "        0.5,\n",
      "        0.5\n",
      "    ]\n",
      "}\n"
     ]
    }
   ],
   "source": [
    "with open(r\"C:\\Users\\legregam\\Documents\\Projets\\PhysioFit\\docs\\docs_res\\config_file.json\", \"r\") as f:\n",
    "    print(f.read())"
   ]
  },
  {
   "cell_type": "markdown",
   "id": "7881dfbc",
   "metadata": {},
   "source": [
    "#### Importing your data from a json configuration file (recommended)\n",
    "\n",
    "The second way of importing your data and setting up your fitter is by using the *\"launch_from_json\"* method that accepts a **string** or a **bytes file**. The *fitter* will then internally call the *\"read_json_config\"* method, initialize the path towards your data and finally call the *\"local_in\"* function that will initialize the *fitter*"
   ]
  },
  {
   "cell_type": "code",
   "execution_count": 5,
   "id": "7ebfbfd4",
   "metadata": {
    "scrolled": false
   },
   "outputs": [
    {
     "name": "stderr",
     "output_type": "stream",
     "text": [
      "2022-03-09 17:12:07,727 - PhysioFit_Logger.base.fitter.PhysioFitter - INFO - Initializing Weight matrix...\n",
      "\n",
      "2022-03-09 17:12:07,727 - PhysioFit_Logger.base.fitter.PhysioFitter - INFO - Weight Matrix:\n",
      "[[0.2 0.5 0.5]\n",
      " [0.2 0.5 0.5]\n",
      " [0.2 0.5 0.5]\n",
      " [0.2 0.5 0.5]\n",
      " [0.2 0.5 0.5]\n",
      " [0.2 0.5 0.5]\n",
      " [0.2 0.5 0.5]\n",
      " [0.2 0.5 0.5]\n",
      " [0.2 0.5 0.5]\n",
      " [0.2 0.5 0.5]\n",
      " [0.2 0.5 0.5]\n",
      " [0.2 0.5 0.5]\n",
      " [0.2 0.5 0.5]\n",
      " [0.2 0.5 0.5]\n",
      " [0.2 0.5 0.5]\n",
      " [0.2 0.5 0.5]]\n",
      "\n",
      "2022-03-09 17:12:07,742 - PhysioFit_Logger.base.fitter.PhysioFitter - INFO - Initializing bounds...\n",
      "\n"
     ]
    }
   ],
   "source": [
    "io_handler.launch_from_json(r\"C:\\Users\\legregam\\Documents\\Projets\\PhysioFit\\docs\\docs_res\\config_file.json\")"
   ]
  },
  {
   "cell_type": "markdown",
   "id": "5c1d8a00",
   "metadata": {},
   "source": [
    "#### Run the flux calculation\n",
    "\n",
    "The next step is to launch the optimization of the fluxes. This will enable us to get the *optimized parameters* and the *simulated dataframe*. You can find a link towards the optimization method [here](https://docs.scipy.org/doc/scipy/reference/optimize.minimize-lbfgsb.html#optimize-minimize-lbfgsb)."
   ]
  },
  {
   "cell_type": "code",
   "execution_count": 3,
   "id": "db461485",
   "metadata": {},
   "outputs": [
    {
     "name": "stderr",
     "output_type": "stream",
     "text": [
      "2022-03-10 10:54:48,892 - PhysioFit_Logger.base.fitter.PhysioFitter - INFO - \n",
      "Running optimization...\n",
      "\n",
      "2022-03-10 10:54:49,085 - PhysioFit_Logger.base.fitter.PhysioFitter - INFO - Optimization results: \n",
      "      fun: 1.230728449066384\n",
      " hess_inv: <6x6 LbfgsInvHessProduct with dtype=float64>\n",
      "      jac: array([-0.35729002, -0.03179832,  0.00117899,  0.00301863, -0.00066398,\n",
      "       -0.0007462 ])\n",
      "  message: 'CONVERGENCE: REL_REDUCTION_OF_F_<=_FACTR*EPSMCH'\n",
      "     nfev: 1624\n",
      "      nit: 175\n",
      "     njev: 232\n",
      "   status: 0\n",
      "  success: True\n",
      "        x: array([ 0.02486933,  0.63785081, -6.06889672, 13.9950446 ,  2.01439447,\n",
      "        0.21404609])\n",
      "\n",
      "2022-03-10 10:54:49,086 - PhysioFit_Logger.base.fitter.PhysioFitter - INFO - \n",
      "X_0 = 0.02486933271960968\n",
      "\n",
      "2022-03-10 10:54:49,087 - PhysioFit_Logger.base.fitter.PhysioFitter - INFO - \n",
      "mu = 0.6378508099684295\n",
      "\n",
      "2022-03-10 10:54:49,089 - PhysioFit_Logger.base.fitter.PhysioFitter - INFO - \n",
      "Glc_q = -6.06889671527352\n",
      "\n",
      "2022-03-10 10:54:49,090 - PhysioFit_Logger.base.fitter.PhysioFitter - INFO - \n",
      "Glc_M0 = 13.99504460111816\n",
      "\n",
      "2022-03-10 10:54:49,091 - PhysioFit_Logger.base.fitter.PhysioFitter - INFO - \n",
      "Ace_q = 2.0143944741971707\n",
      "\n",
      "2022-03-10 10:54:49,094 - PhysioFit_Logger.base.fitter.PhysioFitter - INFO - \n",
      "Ace_M0 = 0.21404609112628842\n",
      "\n",
      "2022-03-10 10:54:49,099 - PhysioFit_Logger.base.fitter.PhysioFitter - INFO - Final Simulated Data: \n",
      "                 X        Glc       Ace\n",
      "Time                                   \n",
      "1.350000       NaN  13.671876  0.321312\n",
      "1.694722  0.073304        NaN       NaN\n",
      "1.916667       NaN  13.428140  0.402214\n",
      "2.300278  0.107864        NaN       NaN\n",
      "2.698333  0.139041        NaN       NaN\n",
      "2.866667       NaN  12.758796  0.624383\n",
      "3.436111  0.222597        NaN       NaN\n",
      "3.821111  0.284557        NaN       NaN\n",
      "4.000000       NaN  11.196971  1.142786\n",
      "4.201111  0.362606        NaN       NaN\n",
      "4.598056  0.467084        NaN       NaN\n",
      "4.800000       NaN   9.176596  1.813390\n",
      "4.995000  0.601665        NaN       NaN\n",
      "5.183333       NaN   7.776368  2.278156\n",
      "5.375278  0.766827        NaN       NaN\n",
      "5.583333       NaN   5.900183  2.900901\n",
      "\n"
     ]
    }
   ],
   "source": [
    "io_handler.fitter.optimize()"
   ]
  },
  {
   "cell_type": "markdown",
   "id": "c684caee",
   "metadata": {},
   "source": [
    "We can access the parameters in the *fitter* by accessing the corresponding attribute in the *parameter stats* dictionnary..."
   ]
  },
  {
   "cell_type": "code",
   "execution_count": 5,
   "id": "d42ca17b",
   "metadata": {},
   "outputs": [
    {
     "data": {
      "text/plain": [
       "array([ 0.02486933,  0.63785081, -6.06889672, 13.9950446 ,  2.01439447,\n",
       "        0.21404609])"
      ]
     },
     "execution_count": 5,
     "metadata": {},
     "output_type": "execute_result"
    }
   ],
   "source": [
    "io_handler.fitter.parameter_stats[\"optimal\"]"
   ]
  },
  {
   "cell_type": "markdown",
   "id": "f5d2aac7",
   "metadata": {},
   "source": [
    "... or by accessing directly the result from the *optimization function results* (this will also show the residual, jacobian and other more advanced information)"
   ]
  },
  {
   "cell_type": "code",
   "execution_count": 6,
   "id": "22701733",
   "metadata": {},
   "outputs": [
    {
     "data": {
      "text/plain": [
       "      fun: 1.230728449066384\n",
       " hess_inv: <6x6 LbfgsInvHessProduct with dtype=float64>\n",
       "      jac: array([-0.35729002, -0.03179832,  0.00117899,  0.00301863, -0.00066398,\n",
       "       -0.0007462 ])\n",
       "  message: 'CONVERGENCE: REL_REDUCTION_OF_F_<=_FACTR*EPSMCH'\n",
       "     nfev: 1624\n",
       "      nit: 175\n",
       "     njev: 232\n",
       "   status: 0\n",
       "  success: True\n",
       "        x: array([ 0.02486933,  0.63785081, -6.06889672, 13.9950446 ,  2.01439447,\n",
       "        0.21404609])"
      ]
     },
     "execution_count": 6,
     "metadata": {},
     "output_type": "execute_result"
    }
   ],
   "source": [
    "io_handler.fitter.optimize_results"
   ]
  },
  {
   "cell_type": "markdown",
   "id": "ce10caa1",
   "metadata": {},
   "source": [
    "It is also possible to get the *optimized parameter vector* from the optimization results by accessing it's x attribute:"
   ]
  },
  {
   "cell_type": "code",
   "execution_count": 8,
   "id": "edfcd501",
   "metadata": {},
   "outputs": [
    {
     "data": {
      "text/plain": [
       "array([ 0.02486933,  0.63785081, -6.06889672, 13.9950446 ,  2.01439447,\n",
       "        0.21404609])"
      ]
     },
     "execution_count": 8,
     "metadata": {},
     "output_type": "execute_result"
    }
   ],
   "source": [
    "io_handler.fitter.optimize_results.x"
   ]
  },
  {
   "cell_type": "markdown",
   "id": "0871b5f8",
   "metadata": {},
   "source": [
    "The *simulated data* can also be accessed after the optimization has been performed:"
   ]
  },
  {
   "cell_type": "code",
   "execution_count": 4,
   "id": "5554e8d4",
   "metadata": {},
   "outputs": [
    {
     "data": {
      "text/html": [
       "<div>\n",
       "<style scoped>\n",
       "    .dataframe tbody tr th:only-of-type {\n",
       "        vertical-align: middle;\n",
       "    }\n",
       "\n",
       "    .dataframe tbody tr th {\n",
       "        vertical-align: top;\n",
       "    }\n",
       "\n",
       "    .dataframe thead th {\n",
       "        text-align: right;\n",
       "    }\n",
       "</style>\n",
       "<table border=\"1\" class=\"dataframe\">\n",
       "  <thead>\n",
       "    <tr style=\"text-align: right;\">\n",
       "      <th></th>\n",
       "      <th>X</th>\n",
       "      <th>Glc</th>\n",
       "      <th>Ace</th>\n",
       "    </tr>\n",
       "    <tr>\n",
       "      <th>Time</th>\n",
       "      <th></th>\n",
       "      <th></th>\n",
       "      <th></th>\n",
       "    </tr>\n",
       "  </thead>\n",
       "  <tbody>\n",
       "    <tr>\n",
       "      <th>1.350000</th>\n",
       "      <td>NaN</td>\n",
       "      <td>13.671876</td>\n",
       "      <td>0.321312</td>\n",
       "    </tr>\n",
       "    <tr>\n",
       "      <th>1.694722</th>\n",
       "      <td>0.073304</td>\n",
       "      <td>NaN</td>\n",
       "      <td>NaN</td>\n",
       "    </tr>\n",
       "    <tr>\n",
       "      <th>1.916667</th>\n",
       "      <td>NaN</td>\n",
       "      <td>13.428140</td>\n",
       "      <td>0.402214</td>\n",
       "    </tr>\n",
       "    <tr>\n",
       "      <th>2.300278</th>\n",
       "      <td>0.107864</td>\n",
       "      <td>NaN</td>\n",
       "      <td>NaN</td>\n",
       "    </tr>\n",
       "    <tr>\n",
       "      <th>2.698333</th>\n",
       "      <td>0.139041</td>\n",
       "      <td>NaN</td>\n",
       "      <td>NaN</td>\n",
       "    </tr>\n",
       "    <tr>\n",
       "      <th>2.866667</th>\n",
       "      <td>NaN</td>\n",
       "      <td>12.758796</td>\n",
       "      <td>0.624383</td>\n",
       "    </tr>\n",
       "    <tr>\n",
       "      <th>3.436111</th>\n",
       "      <td>0.222597</td>\n",
       "      <td>NaN</td>\n",
       "      <td>NaN</td>\n",
       "    </tr>\n",
       "    <tr>\n",
       "      <th>3.821111</th>\n",
       "      <td>0.284557</td>\n",
       "      <td>NaN</td>\n",
       "      <td>NaN</td>\n",
       "    </tr>\n",
       "    <tr>\n",
       "      <th>4.000000</th>\n",
       "      <td>NaN</td>\n",
       "      <td>11.196971</td>\n",
       "      <td>1.142786</td>\n",
       "    </tr>\n",
       "    <tr>\n",
       "      <th>4.201111</th>\n",
       "      <td>0.362606</td>\n",
       "      <td>NaN</td>\n",
       "      <td>NaN</td>\n",
       "    </tr>\n",
       "    <tr>\n",
       "      <th>4.598056</th>\n",
       "      <td>0.467084</td>\n",
       "      <td>NaN</td>\n",
       "      <td>NaN</td>\n",
       "    </tr>\n",
       "    <tr>\n",
       "      <th>4.800000</th>\n",
       "      <td>NaN</td>\n",
       "      <td>9.176596</td>\n",
       "      <td>1.813390</td>\n",
       "    </tr>\n",
       "    <tr>\n",
       "      <th>4.995000</th>\n",
       "      <td>0.601665</td>\n",
       "      <td>NaN</td>\n",
       "      <td>NaN</td>\n",
       "    </tr>\n",
       "    <tr>\n",
       "      <th>5.183333</th>\n",
       "      <td>NaN</td>\n",
       "      <td>7.776368</td>\n",
       "      <td>2.278156</td>\n",
       "    </tr>\n",
       "    <tr>\n",
       "      <th>5.375278</th>\n",
       "      <td>0.766827</td>\n",
       "      <td>NaN</td>\n",
       "      <td>NaN</td>\n",
       "    </tr>\n",
       "    <tr>\n",
       "      <th>5.583333</th>\n",
       "      <td>NaN</td>\n",
       "      <td>5.900183</td>\n",
       "      <td>2.900901</td>\n",
       "    </tr>\n",
       "  </tbody>\n",
       "</table>\n",
       "</div>"
      ],
      "text/plain": [
       "                 X        Glc       Ace\n",
       "Time                                   \n",
       "1.350000       NaN  13.671876  0.321312\n",
       "1.694722  0.073304        NaN       NaN\n",
       "1.916667       NaN  13.428140  0.402214\n",
       "2.300278  0.107864        NaN       NaN\n",
       "2.698333  0.139041        NaN       NaN\n",
       "2.866667       NaN  12.758796  0.624383\n",
       "3.436111  0.222597        NaN       NaN\n",
       "3.821111  0.284557        NaN       NaN\n",
       "4.000000       NaN  11.196971  1.142786\n",
       "4.201111  0.362606        NaN       NaN\n",
       "4.598056  0.467084        NaN       NaN\n",
       "4.800000       NaN   9.176596  1.813390\n",
       "4.995000  0.601665        NaN       NaN\n",
       "5.183333       NaN   7.776368  2.278156\n",
       "5.375278  0.766827        NaN       NaN\n",
       "5.583333       NaN   5.900183  2.900901"
      ]
     },
     "execution_count": 4,
     "metadata": {},
     "output_type": "execute_result"
    }
   ],
   "source": [
    "io_handler.fitter.simulated_data"
   ]
  },
  {
   "cell_type": "markdown",
   "id": "bb7a7e9b",
   "metadata": {},
   "source": [
    "As we can see above, the simulated data contains a number of NaN values. This is because Physiofit **can detect when input data contains NaN values** (if biomass and metabolite concentrations were calculated from different sampling points) and will thus keep that in mind during and after optimization.\n",
    "\n",
    "#### Monte-Carlo sensitivity analysis and khi2 test\n",
    "\n",
    "The next step in the extracellular flux calculation process is to apply the Monte-Carlo sensitivity analysis on our simmulated data using the optimized parameters. To do so is very simple:"
   ]
  },
  {
   "cell_type": "code",
   "execution_count": 5,
   "id": "696d4b5d",
   "metadata": {},
   "outputs": [
    {
     "name": "stderr",
     "output_type": "stream",
     "text": [
      "2022-03-10 11:11:21,915 - PhysioFit_Logger.base.fitter.PhysioFitter - INFO - Running monte carlo analysis. Number of iterations: 100\n",
      "\n",
      "2022-03-10 11:11:28,906 - PhysioFit_Logger.base.fitter.PhysioFitter - INFO - Optimized parameters statistics:\n",
      "{'optimal': array([ 0.02486933,  0.63785081, -6.06889672, 13.9950446 ,  2.01439447,\n",
      "        0.21404609]), 'mean': array([ 0.02666438,  0.64218772, -6.31911788, 13.99019957,  2.01937781,\n",
      "        0.24968638]), 'sd': array([0.01342889, 0.08755595, 1.06948783, 0.32597459, 0.44177296,\n",
      "       0.18447179]), 'median': array([ 0.02385465,  0.63941769, -6.19220146, 13.97601157,  1.98116387,\n",
      "        0.23285916]), 'CI_2.5': array([ 1.04608290e-02,  4.77885648e-01, -8.48897376e+00,  1.33389230e+01,\n",
      "        1.23399946e+00,  1.00000000e-06]), 'CI_97.5': array([ 0.06152013,  0.79962731, -4.4566361 , 14.62966973,  2.7836405 ,\n",
      "        0.60064472])}\n",
      "\n",
      "2022-03-10 11:11:28,908 - PhysioFit_Logger.base.fitter.PhysioFitter - INFO - Simulated matrix lower confidence interval:\n",
      "[[        nan 13.15781683  0.10357069]\n",
      " [ 0.03969298         nan         nan]\n",
      " [        nan 12.96564292  0.18332844]\n",
      " [ 0.06393778         nan         nan]\n",
      " [ 0.08744284         nan         nan]\n",
      " [        nan 12.43830503  0.40154847]\n",
      " [ 0.15383034         nan         nan]\n",
      " [ 0.20691472         nan         nan]\n",
      " [        nan 10.85202405  0.85372059]\n",
      " [ 0.27086697         nan         nan]\n",
      " [ 0.35937865         nan         nan]\n",
      " [        nan  8.80928806  1.48427271]\n",
      " [ 0.47250978         nan         nan]\n",
      " [        nan  7.28553316  1.87548213]\n",
      " [ 0.60855217         nan         nan]\n",
      " [        nan  5.13732585  2.29735192]]\n",
      "\n",
      "2022-03-10 11:11:28,911 - PhysioFit_Logger.base.fitter.PhysioFitter - INFO - Simulated matrix higher confidence interval:\n",
      "[[        nan 14.10718781  0.67517795]\n",
      " [ 0.14078892         nan         nan]\n",
      " [        nan 13.81958989  0.73195315]\n",
      " [ 0.18762075         nan         nan]\n",
      " [ 0.22660012         nan         nan]\n",
      " [        nan 13.03971497  0.90928582]\n",
      " [ 0.32155364         nan         nan]\n",
      " [ 0.38967808         nan         nan]\n",
      " [        nan 11.54091732  1.34921723]\n",
      " [ 0.47116317         nan         nan]\n",
      " [ 0.57944575         nan         nan]\n",
      " [        nan  9.46039995  2.07964884]\n",
      " [ 0.7315639          nan         nan]\n",
      " [        nan  8.15774652  2.59201989]\n",
      " [ 0.93384201         nan         nan]\n",
      " [        nan  6.58274679  3.37212026]]\n",
      "\n"
     ]
    }
   ],
   "source": [
    "io_handler.fitter.monte_carlo_analysis()"
   ]
  },
  {
   "cell_type": "markdown",
   "id": "ca14c2f8",
   "metadata": {},
   "source": [
    "As we can see, we have now generated statistics around our simulated data points. We can access these statistics through the *parameter stats* attribute of the fitter:"
   ]
  },
  {
   "cell_type": "code",
   "execution_count": 13,
   "id": "6987016f",
   "metadata": {},
   "outputs": [
    {
     "name": "stdout",
     "output_type": "stream",
     "text": [
      "optimal: [ 0.02486933  0.63785081 -6.06889672 13.9950446   2.01439447  0.21404609]\n",
      "\n",
      "mean: [ 0.02666438  0.64218772 -6.31911788 13.99019957  2.01937781  0.24968638]\n",
      "\n",
      "sd: [0.01342889 0.08755595 1.06948783 0.32597459 0.44177296 0.18447179]\n",
      "\n",
      "median: [ 0.02385465  0.63941769 -6.19220146 13.97601157  1.98116387  0.23285916]\n",
      "\n",
      "CI_2.5: [ 1.04608290e-02  4.77885648e-01 -8.48897376e+00  1.33389230e+01\n",
      "  1.23399946e+00  1.00000000e-06]\n",
      "\n",
      "CI_97.5: [ 0.06152013  0.79962731 -4.4566361  14.62966973  2.7836405   0.60064472]\n",
      "\n"
     ]
    }
   ],
   "source": [
    "for parameter in io_handler.fitter.parameter_stats.keys():\n",
    "    print(f\"{parameter}: {io_handler.fitter.parameter_stats[parameter]}\\n\")"
   ]
  },
  {
   "cell_type": "markdown",
   "id": "39e1e064",
   "metadata": {},
   "source": [
    "For running the khi2 test and checking if our simulation fits the data well:"
   ]
  },
  {
   "cell_type": "code",
   "execution_count": 14,
   "id": "47b7001d",
   "metadata": {},
   "outputs": [
    {
     "name": "stderr",
     "output_type": "stream",
     "text": [
      "2022-03-10 11:47:50,967 - PhysioFit_Logger.base.fitter.PhysioFitter - INFO - khi2 test results:\n",
      "khi2 value: 1.230728449066384\n",
      "Number of measurements: 23\n",
      "Number of parameters to fit: 6\n",
      "Degrees of freedom: 17\n",
      "p-value = 7.810019921271921e-08\n",
      "\n",
      "2022-03-10 11:47:50,968 - PhysioFit_Logger.base.fitter.PhysioFitter - INFO - At level of 95% confidence, the model fits the data good enough with respect to the provided measurement SD. Value: 7.810019921271921e-08\n"
     ]
    }
   ],
   "source": [
    "io_handler.fitter.khi2_test()"
   ]
  },
  {
   "cell_type": "markdown",
   "id": "f632c99e",
   "metadata": {},
   "source": [
    "#### Exporting the data and plots\n",
    "\n",
    "The final leg of this tutorial will be focused on the export of the calculated data and the associated plots. To do this, we use the function *\"local_out\"* that is our go-to method for handling outputs in a local context. The function accepts 3 arguments as parameters:\n",
    "\n",
    "- \"data\": This will tell the handler to output the optimized parameters data \n",
    "\n",
    "- \"plots\": This will tell the handler to output the plots individually in svg files\n",
    "\n",
    "- \"pdf\": This will tell the handler to ouput the plots grouped in a pdf file\n",
    "\n",
    "The function will also generate a **config.json** file with the run parameters."
   ]
  },
  {
   "cell_type": "code",
   "execution_count": 15,
   "id": "6d5750e6",
   "metadata": {},
   "outputs": [
    {
     "name": "stderr",
     "output_type": "stream",
     "text": [
      "2022-03-10 16:22:55,052 - PhysioFit_Logger.base.fitter.PhysioFitter - INFO - \n",
      "Configuration file saved in: C:\\Users\\legregam\\Documents\\Projets\\PhysioFit\\docs\\docs_res\\config_file.json\n"
     ]
    },
    {
     "data": {
      "image/png": "[encoded data removed]",
      "text/plain": [
       "<Figure size 648x360 with 1 Axes>"
      ]
     },
     "metadata": {
      "needs_background": "light"
     },
     "output_type": "display_data"
    },
    {
     "data": {
      "image/png": "[encoded data removed]",
      "text/plain": [
       "<Figure size 648x360 with 1 Axes>"
      ]
     },
     "metadata": {
      "needs_background": "light"
     },
     "output_type": "display_data"
    },
    {
     "data": {
      "image/png": "[encoded data removed]",
      "text/plain": [
       "<Figure size 648x360 with 1 Axes>"
      ]
     },
     "metadata": {
      "needs_background": "light"
     },
     "output_type": "display_data"
    }
   ],
   "source": [
    "io_handler.local_out(\"data\", \"plot\", \"pdf\")"
   ]
  }
 ],
 "metadata": {
  "kernelspec": {
   "display_name": "Python 3 (ipykernel)",
   "language": "python",
   "name": "python3"
  },
  "language_info": {
   "codemirror_mode": {
    "name": "ipython",
    "version": 3
   },
   "file_extension": ".py",
   "mimetype": "text/x-python",
   "name": "python",
   "nbconvert_exporter": "python",
   "pygments_lexer": "ipython3",
   "version": "3.9.7"
  }
 },
 "nbformat": 4,
 "nbformat_minor": 5
}
